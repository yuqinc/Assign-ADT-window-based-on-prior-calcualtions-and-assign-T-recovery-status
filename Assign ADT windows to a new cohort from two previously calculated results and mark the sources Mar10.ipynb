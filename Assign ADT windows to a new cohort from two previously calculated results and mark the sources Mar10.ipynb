{
 "cells": [
  {
   "cell_type": "markdown",
   "metadata": {},
   "source": [
    "# README.md\n",
    "\n",
    "# Assign ADT window for the 270 pts from previously calculated results approach #2 and manual reviewed cohort and mark the sources"
   ]
  },
  {
   "cell_type": "markdown",
   "metadata": {},
   "source": [
    "## Table of Contents\n",
    "* [Read data, clean up and get stats](#first-bullet)\n",
    "* [Assign Source and combine tables](#second-bullet)"
   ]
  },
  {
   "cell_type": "code",
   "execution_count": 112,
   "metadata": {},
   "outputs": [],
   "source": [
    "import numpy as np\n",
    "import pandas as pd\n",
    "import sys, getopt\n",
    "import csv\n",
    "from datetime import datetime\n",
    "import itertools\n",
    "\n",
    "import matplotlib.pyplot as plt\n",
    "from matplotlib import pyplot\n",
    "from pylab import *\n",
    "\n",
    "%matplotlib inline  \n",
    "import seaborn as sns"
   ]
  },
  {
   "cell_type": "markdown",
   "metadata": {},
   "source": [
    "Note: All the pts who made it to the final cohort met the following criteria:\n",
    "\n",
    "Having an initial ADT window assignable with start and end dates\n",
    "Having a baseline T before or on the day of ADT start date\n",
    "Having T test results after or on the  ADT end date that a recovery/nonrecovery status can be assigned\n",
    "ADT_to_T recovery time > 0 days\n",
    "ADT duration >0 days\n"
   ]
  },
  {
   "cell_type": "markdown",
   "metadata": {},
   "source": [
    "# Read data, clean up and get stats <a class=\"anchor\" id=\"first-bullet\"></a>"
   ]
  },
  {
   "cell_type": "code",
   "execution_count": 113,
   "metadata": {
    "scrolled": true
   },
   "outputs": [
    {
     "name": "stdout",
     "output_type": "stream",
     "text": [
      "84\n",
      "252\n"
     ]
    }
   ],
   "source": [
    "#new 107pt list\n",
    "df1=pd.read_excel(\"./data/270pt_list.xlsx\", header=0)\n",
    "\n",
    "#manual reviewed cohort \n",
    "df2=pd.read_excel(\"./data/pca_manual_reviewed_cohort_185pts_ADT_windows.xlsx\", header=0)\n",
    "\n",
    "#approach #2 results\n",
    "df3=pd.read_csv(\"./data/sean_big_cohort_approach2_561pts_with_adt_window_and_baseline_T_Feb24_2021.csv\", header=0)\n",
    "\n",
    "#103/185 pts that have T baselines\n",
    "df4=pd.read_excel(\"./data/103pts_combined_185pts_cohort_with_baselineT.xlsx\", header=0)\n",
    "\n",
    "#84/103 pts that have T baselines\n",
    "df5=pd.read_excel(\"./data/84pts_manual_reviewed_final_cohort.xlsx\", header=0)\n",
    "\n",
    "#252 pts in the approach #2 final cohort patient list \n",
    "df6=pd.read_excel(\"./data/approach2_252pts_final_cohort.xlsx\", header=0)\n",
    "\n",
    "df1.fillna('', inplace=True)\n",
    "df1.replace(r'', np.NaN)\n",
    "\n",
    "df2.fillna('', inplace=True)\n",
    "df2.replace(r'', np.NaN)\n",
    "df2[:3]\n",
    "\n",
    "df3.fillna('', inplace=True)\n",
    "df3.replace(r'', np.NaN)\n",
    "df3[:3]\n",
    "\n",
    "df5.fillna('', inplace=True)\n",
    "df5.replace(r'', np.NaN)\n",
    "df5[:3]\n",
    "print(len(df5))\n",
    "\n",
    "df6.fillna('', inplace=True)\n",
    "df6.replace(r'', np.NaN)\n",
    "df6[:3]\n",
    "print(len(df6))"
   ]
  },
  {
   "cell_type": "code",
   "execution_count": 114,
   "metadata": {
    "scrolled": true
   },
   "outputs": [
    {
     "data": {
      "text/html": [
       "<div>\n",
       "<style scoped>\n",
       "    .dataframe tbody tr th:only-of-type {\n",
       "        vertical-align: middle;\n",
       "    }\n",
       "\n",
       "    .dataframe tbody tr th {\n",
       "        vertical-align: top;\n",
       "    }\n",
       "\n",
       "    .dataframe thead th {\n",
       "        text-align: right;\n",
       "    }\n",
       "</style>\n",
       "<table border=\"1\" class=\"dataframe\">\n",
       "  <thead>\n",
       "    <tr style=\"text-align: right;\">\n",
       "      <th></th>\n",
       "      <th>person_id</th>\n",
       "      <th>ADT initail use START</th>\n",
       "      <th>ADT initial use END</th>\n",
       "      <th>ADT duration</th>\n",
       "      <th>Last note date</th>\n",
       "    </tr>\n",
       "  </thead>\n",
       "  <tbody>\n",
       "    <tr>\n",
       "      <td>0</td>\n",
       "      <td>12</td>\n",
       "      <td>2013-05-06</td>\n",
       "      <td>2013-05-06</td>\n",
       "      <td>0</td>\n",
       "      <td>2020-12-18</td>\n",
       "    </tr>\n",
       "    <tr>\n",
       "      <td>1</td>\n",
       "      <td>18</td>\n",
       "      <td>2013-11-12</td>\n",
       "      <td>2014-03-13</td>\n",
       "      <td>121</td>\n",
       "      <td>2020-10-29</td>\n",
       "    </tr>\n",
       "    <tr>\n",
       "      <td>2</td>\n",
       "      <td>25</td>\n",
       "      <td>2013-08-01</td>\n",
       "      <td>2014-02-18</td>\n",
       "      <td>201</td>\n",
       "      <td>2020-01-22</td>\n",
       "    </tr>\n",
       "  </tbody>\n",
       "</table>\n",
       "</div>"
      ],
      "text/plain": [
       "   person_id ADT initail use START ADT initial use END  ADT duration  \\\n",
       "0         12            2013-05-06          2013-05-06             0   \n",
       "1         18            2013-11-12          2014-03-13           121   \n",
       "2         25            2013-08-01          2014-02-18           201   \n",
       "\n",
       "  Last note date  \n",
       "0     2020-12-18  \n",
       "1     2020-10-29  \n",
       "2     2020-01-22  "
      ]
     },
     "execution_count": 114,
     "metadata": {},
     "output_type": "execute_result"
    }
   ],
   "source": [
    "df2[:3]"
   ]
  },
  {
   "cell_type": "code",
   "execution_count": 115,
   "metadata": {},
   "outputs": [
    {
     "name": "stdout",
     "output_type": "stream",
     "text": [
      "66\n",
      "18\n",
      "186\n"
     ]
    }
   ],
   "source": [
    "#first assgin window according to the manual reviewed cohort\n",
    "#then for the empty lines, assgin them according to the approach #2 \n",
    "result_pt_list=df1[\"person_id\"].to_list()\n",
    "manual_pt_list=df2[\"person_id\"].to_list()\n",
    "approach2_list=df3[\"person_id\"].to_list()\n",
    "manual_final=df5[\"person_id\"].to_list()\n",
    "app2_final=df6[\"person_id\"].to_list()\n",
    "\n",
    "#overlapping btw 270 pts list and  manual reviewed list with T baseline\n",
    "shared_btw_manual_n_app2=[x for x in app2_final if x in manual_final]\n",
    "print(len(shared_btw_manual_n_app2))\n",
    "unique_from_manual=[x for x in manual_final if x not in app2_final]\n",
    "unique_from_app2=[x for x in app2_final if x not in manual_final]\n",
    "\n",
    "print(len(unique_from_manual))\n",
    "print(len(unique_from_app2))"
   ]
  },
  {
   "cell_type": "code",
   "execution_count": 116,
   "metadata": {},
   "outputs": [
    {
     "data": {
      "text/plain": [
       "270"
      ]
     },
     "execution_count": 116,
     "metadata": {},
     "output_type": "execute_result"
    }
   ],
   "source": [
    "252+84-66"
   ]
  },
  {
   "cell_type": "code",
   "execution_count": 117,
   "metadata": {},
   "outputs": [
    {
     "data": {
      "text/plain": [
       "185"
      ]
     },
     "execution_count": 117,
     "metadata": {},
     "output_type": "execute_result"
    }
   ],
   "source": [
    "len(manual_pt_list)"
   ]
  },
  {
   "cell_type": "code",
   "execution_count": 118,
   "metadata": {},
   "outputs": [
    {
     "data": {
      "text/html": [
       "<div>\n",
       "<style scoped>\n",
       "    .dataframe tbody tr th:only-of-type {\n",
       "        vertical-align: middle;\n",
       "    }\n",
       "\n",
       "    .dataframe tbody tr th {\n",
       "        vertical-align: top;\n",
       "    }\n",
       "\n",
       "    .dataframe thead th {\n",
       "        text-align: right;\n",
       "    }\n",
       "</style>\n",
       "<table border=\"1\" class=\"dataframe\">\n",
       "  <thead>\n",
       "    <tr style=\"text-align: right;\">\n",
       "      <th></th>\n",
       "      <th>person_id</th>\n",
       "      <th>inital_ADT_start_date</th>\n",
       "      <th>inital_ADT_end_date</th>\n",
       "      <th>Inital_ADT_time_window_days</th>\n",
       "      <th>Tdate_justbeforeADT</th>\n",
       "      <th>Tvalue_justbeforeADT</th>\n",
       "      <th>baseline avail Status</th>\n",
       "      <th>N_T_dates</th>\n",
       "      <th>N_T_dates_beforeADT</th>\n",
       "    </tr>\n",
       "  </thead>\n",
       "  <tbody>\n",
       "    <tr>\n",
       "      <td>0</td>\n",
       "      <td>2</td>\n",
       "      <td>2009-02-26</td>\n",
       "      <td>2009-09-15</td>\n",
       "      <td>201.0</td>\n",
       "      <td>2009-02-09</td>\n",
       "      <td>274.18</td>\n",
       "      <td>Y</td>\n",
       "      <td>82</td>\n",
       "      <td>20</td>\n",
       "    </tr>\n",
       "    <tr>\n",
       "      <td>1</td>\n",
       "      <td>13</td>\n",
       "      <td>2010-06-17</td>\n",
       "      <td>2015-03-17</td>\n",
       "      <td>1734.0</td>\n",
       "      <td>2009-09-18</td>\n",
       "      <td>23.72</td>\n",
       "      <td>Y</td>\n",
       "      <td>23</td>\n",
       "      <td>2</td>\n",
       "    </tr>\n",
       "    <tr>\n",
       "      <td>2</td>\n",
       "      <td>25</td>\n",
       "      <td>2013-11-01</td>\n",
       "      <td>2014-02-18</td>\n",
       "      <td>109.0</td>\n",
       "      <td>2013-10-15</td>\n",
       "      <td>31.54</td>\n",
       "      <td>Y</td>\n",
       "      <td>12</td>\n",
       "      <td>1</td>\n",
       "    </tr>\n",
       "    <tr>\n",
       "      <td>3</td>\n",
       "      <td>38</td>\n",
       "      <td>2015-11-18</td>\n",
       "      <td>2016-07-18</td>\n",
       "      <td>243.0</td>\n",
       "      <td>2015-11-18</td>\n",
       "      <td>288.37</td>\n",
       "      <td>Y</td>\n",
       "      <td>20</td>\n",
       "      <td>5</td>\n",
       "    </tr>\n",
       "    <tr>\n",
       "      <td>4</td>\n",
       "      <td>53</td>\n",
       "      <td>2013-02-25</td>\n",
       "      <td>2016-10-03</td>\n",
       "      <td>1316.0</td>\n",
       "      <td>2012-07-30</td>\n",
       "      <td>0.96</td>\n",
       "      <td>Y</td>\n",
       "      <td>26</td>\n",
       "      <td>1</td>\n",
       "    </tr>\n",
       "    <tr>\n",
       "      <td>...</td>\n",
       "      <td>...</td>\n",
       "      <td>...</td>\n",
       "      <td>...</td>\n",
       "      <td>...</td>\n",
       "      <td>...</td>\n",
       "      <td>...</td>\n",
       "      <td>...</td>\n",
       "      <td>...</td>\n",
       "      <td>...</td>\n",
       "    </tr>\n",
       "    <tr>\n",
       "      <td>502</td>\n",
       "      <td>197945</td>\n",
       "      <td>2020-06-02</td>\n",
       "      <td>2020-09-09</td>\n",
       "      <td>99.0</td>\n",
       "      <td>2020-06-02</td>\n",
       "      <td>267.00</td>\n",
       "      <td>Y</td>\n",
       "      <td>1</td>\n",
       "      <td>1</td>\n",
       "    </tr>\n",
       "    <tr>\n",
       "      <td>503</td>\n",
       "      <td>198103</td>\n",
       "      <td>2020-01-16</td>\n",
       "      <td>2020-09-21</td>\n",
       "      <td>249.0</td>\n",
       "      <td>2020-01-16</td>\n",
       "      <td>610.00</td>\n",
       "      <td>Y</td>\n",
       "      <td>2</td>\n",
       "      <td>1</td>\n",
       "    </tr>\n",
       "    <tr>\n",
       "      <td>504</td>\n",
       "      <td>201343</td>\n",
       "      <td>2020-08-07</td>\n",
       "      <td>2020-09-01</td>\n",
       "      <td>25.0</td>\n",
       "      <td>2020-07-09</td>\n",
       "      <td>362.00</td>\n",
       "      <td>Y</td>\n",
       "      <td>3</td>\n",
       "      <td>1</td>\n",
       "    </tr>\n",
       "    <tr>\n",
       "      <td>505</td>\n",
       "      <td>203736</td>\n",
       "      <td>2020-07-07</td>\n",
       "      <td>2020-10-14</td>\n",
       "      <td>99.0</td>\n",
       "      <td>2020-07-06</td>\n",
       "      <td>823.00</td>\n",
       "      <td>Y</td>\n",
       "      <td>1</td>\n",
       "      <td>1</td>\n",
       "    </tr>\n",
       "    <tr>\n",
       "      <td>506</td>\n",
       "      <td>205144</td>\n",
       "      <td>2020-07-13</td>\n",
       "      <td>2020-10-12</td>\n",
       "      <td>91.0</td>\n",
       "      <td>2020-07-13</td>\n",
       "      <td>500.00</td>\n",
       "      <td>Y</td>\n",
       "      <td>1</td>\n",
       "      <td>1</td>\n",
       "    </tr>\n",
       "  </tbody>\n",
       "</table>\n",
       "<p>507 rows × 9 columns</p>\n",
       "</div>"
      ],
      "text/plain": [
       "     person_id inital_ADT_start_date inital_ADT_end_date  \\\n",
       "0            2            2009-02-26          2009-09-15   \n",
       "1           13            2010-06-17          2015-03-17   \n",
       "2           25            2013-11-01          2014-02-18   \n",
       "3           38            2015-11-18          2016-07-18   \n",
       "4           53            2013-02-25          2016-10-03   \n",
       "..         ...                   ...                 ...   \n",
       "502     197945            2020-06-02          2020-09-09   \n",
       "503     198103            2020-01-16          2020-09-21   \n",
       "504     201343            2020-08-07          2020-09-01   \n",
       "505     203736            2020-07-07          2020-10-14   \n",
       "506     205144            2020-07-13          2020-10-12   \n",
       "\n",
       "     Inital_ADT_time_window_days Tdate_justbeforeADT  Tvalue_justbeforeADT  \\\n",
       "0                          201.0          2009-02-09                274.18   \n",
       "1                         1734.0          2009-09-18                 23.72   \n",
       "2                          109.0          2013-10-15                 31.54   \n",
       "3                          243.0          2015-11-18                288.37   \n",
       "4                         1316.0          2012-07-30                  0.96   \n",
       "..                           ...                 ...                   ...   \n",
       "502                         99.0          2020-06-02                267.00   \n",
       "503                        249.0          2020-01-16                610.00   \n",
       "504                         25.0          2020-07-09                362.00   \n",
       "505                         99.0          2020-07-06                823.00   \n",
       "506                         91.0          2020-07-13                500.00   \n",
       "\n",
       "    baseline avail Status  N_T_dates  N_T_dates_beforeADT  \n",
       "0                       Y         82                   20  \n",
       "1                       Y         23                    2  \n",
       "2                       Y         12                    1  \n",
       "3                       Y         20                    5  \n",
       "4                       Y         26                    1  \n",
       "..                    ...        ...                  ...  \n",
       "502                     Y          1                    1  \n",
       "503                     Y          2                    1  \n",
       "504                     Y          3                    1  \n",
       "505                     Y          1                    1  \n",
       "506                     Y          1                    1  \n",
       "\n",
       "[507 rows x 9 columns]"
      ]
     },
     "execution_count": 118,
     "metadata": {},
     "output_type": "execute_result"
    }
   ],
   "source": [
    "df3"
   ]
  },
  {
   "cell_type": "code",
   "execution_count": 119,
   "metadata": {},
   "outputs": [
    {
     "data": {
      "text/html": [
       "<div>\n",
       "<style scoped>\n",
       "    .dataframe tbody tr th:only-of-type {\n",
       "        vertical-align: middle;\n",
       "    }\n",
       "\n",
       "    .dataframe tbody tr th {\n",
       "        vertical-align: top;\n",
       "    }\n",
       "\n",
       "    .dataframe thead th {\n",
       "        text-align: right;\n",
       "    }\n",
       "</style>\n",
       "<table border=\"1\" class=\"dataframe\">\n",
       "  <thead>\n",
       "    <tr style=\"text-align: right;\">\n",
       "      <th></th>\n",
       "      <th>person_id</th>\n",
       "      <th>ADT_start</th>\n",
       "      <th>ADT_end</th>\n",
       "      <th>ADT_duration</th>\n",
       "    </tr>\n",
       "  </thead>\n",
       "  <tbody>\n",
       "    <tr>\n",
       "      <td>0</td>\n",
       "      <td>2</td>\n",
       "      <td>2009-02-26</td>\n",
       "      <td>2009-09-15</td>\n",
       "      <td>201.0</td>\n",
       "    </tr>\n",
       "    <tr>\n",
       "      <td>1</td>\n",
       "      <td>13</td>\n",
       "      <td>2010-06-17</td>\n",
       "      <td>2015-03-17</td>\n",
       "      <td>1734.0</td>\n",
       "    </tr>\n",
       "    <tr>\n",
       "      <td>2</td>\n",
       "      <td>25</td>\n",
       "      <td>2013-11-01</td>\n",
       "      <td>2014-02-18</td>\n",
       "      <td>109.0</td>\n",
       "    </tr>\n",
       "  </tbody>\n",
       "</table>\n",
       "</div>"
      ],
      "text/plain": [
       "   person_id   ADT_start     ADT_end  ADT_duration\n",
       "0          2  2009-02-26  2009-09-15         201.0\n",
       "1         13  2010-06-17  2015-03-17        1734.0\n",
       "2         25  2013-11-01  2014-02-18         109.0"
      ]
     },
     "execution_count": 119,
     "metadata": {},
     "output_type": "execute_result"
    }
   ],
   "source": [
    "df3.columns\n",
    "\n",
    "for column in ['Tdate_justbeforeADT','Tvalue_justbeforeADT', 'baseline avail Status', 'N_T_dates','N_T_dates_beforeADT']:\n",
    "    df3 = df3.drop(column, 1)\n",
    "\n",
    "df3.columns=['person_id','ADT_start','ADT_end','ADT_duration']\n",
    "df3[:3]"
   ]
  },
  {
   "cell_type": "code",
   "execution_count": 120,
   "metadata": {},
   "outputs": [
    {
     "data": {
      "text/plain": [
       "(507, 4)"
      ]
     },
     "execution_count": 120,
     "metadata": {},
     "output_type": "execute_result"
    }
   ],
   "source": [
    "shape(df3)"
   ]
  },
  {
   "cell_type": "code",
   "execution_count": 121,
   "metadata": {
    "scrolled": true
   },
   "outputs": [],
   "source": [
    "index_list=df2.columns\n",
    "index_list\n",
    "\n",
    "df2.columns=['person_id','ADT_start','ADT_end','ADT_duration', 'Last_note_date']\n",
    "df2 = df2.drop('Last_note_date', 1)"
   ]
  },
  {
   "cell_type": "code",
   "execution_count": 122,
   "metadata": {},
   "outputs": [
    {
     "data": {
      "text/plain": [
       "Timestamp('2015-11-18 00:00:00')"
      ]
     },
     "execution_count": 122,
     "metadata": {},
     "output_type": "execute_result"
    }
   ],
   "source": [
    "df2[:30]\n",
    "#print(len(df2))\n",
    "y=38\n",
    "df2_pt=df2[(df2[\"person_id\"] == y)]\n",
    "start=df2_pt.ADT_start.to_list()[0]\n",
    "start"
   ]
  },
  {
   "cell_type": "code",
   "execution_count": 123,
   "metadata": {
    "scrolled": true
   },
   "outputs": [
    {
     "data": {
      "text/plain": [
       "0      True\n",
       "1      True\n",
       "2      True\n",
       "3      True\n",
       "4      True\n",
       "       ... \n",
       "180    True\n",
       "181    True\n",
       "182    True\n",
       "183    True\n",
       "184    True\n",
       "Name: ADT_start, Length: 185, dtype: bool"
      ]
     },
     "execution_count": 123,
     "metadata": {},
     "output_type": "execute_result"
    }
   ],
   "source": [
    "df2.ADT_start.notnull()"
   ]
  },
  {
   "cell_type": "markdown",
   "metadata": {},
   "source": [
    "# Assign Source and combine tables<a class=\"anchor\" id=\"first-bullet\"></a>"
   ]
  },
  {
   "cell_type": "code",
   "execution_count": 124,
   "metadata": {},
   "outputs": [
    {
     "name": "stdout",
     "output_type": "stream",
     "text": [
      "66\n"
     ]
    },
    {
     "name": "stderr",
     "output_type": "stream",
     "text": [
      "/Users/yuqincai/opt/anaconda3/lib/python3.7/site-packages/ipykernel_launcher.py:2: SettingWithCopyWarning: \n",
      "A value is trying to be set on a copy of a slice from a DataFrame.\n",
      "Try using .loc[row_indexer,col_indexer] = value instead\n",
      "\n",
      "See the caveats in the documentation: http://pandas.pydata.org/pandas-docs/stable/user_guide/indexing.html#returning-a-view-versus-a-copy\n",
      "  \n"
     ]
    },
    {
     "data": {
      "text/html": [
       "<div>\n",
       "<style scoped>\n",
       "    .dataframe tbody tr th:only-of-type {\n",
       "        vertical-align: middle;\n",
       "    }\n",
       "\n",
       "    .dataframe tbody tr th {\n",
       "        vertical-align: top;\n",
       "    }\n",
       "\n",
       "    .dataframe thead th {\n",
       "        text-align: right;\n",
       "    }\n",
       "</style>\n",
       "<table border=\"1\" class=\"dataframe\">\n",
       "  <thead>\n",
       "    <tr style=\"text-align: right;\">\n",
       "      <th></th>\n",
       "      <th>person_id</th>\n",
       "      <th>ADT_start</th>\n",
       "      <th>ADT_end</th>\n",
       "      <th>ADT_duration</th>\n",
       "      <th>Source</th>\n",
       "    </tr>\n",
       "  </thead>\n",
       "  <tbody>\n",
       "    <tr>\n",
       "      <td>4</td>\n",
       "      <td>38</td>\n",
       "      <td>2015-11-18</td>\n",
       "      <td>2016-07-18</td>\n",
       "      <td>243</td>\n",
       "      <td>shared_btw_manual_n_app2</td>\n",
       "    </tr>\n",
       "    <tr>\n",
       "      <td>7</td>\n",
       "      <td>119</td>\n",
       "      <td>2013-07-02</td>\n",
       "      <td>2013-10-02</td>\n",
       "      <td>92</td>\n",
       "      <td>shared_btw_manual_n_app2</td>\n",
       "    </tr>\n",
       "    <tr>\n",
       "      <td>10</td>\n",
       "      <td>780</td>\n",
       "      <td>2010-08-01</td>\n",
       "      <td>2010-09-30</td>\n",
       "      <td>60</td>\n",
       "      <td>shared_btw_manual_n_app2</td>\n",
       "    </tr>\n",
       "  </tbody>\n",
       "</table>\n",
       "</div>"
      ],
      "text/plain": [
       "    person_id  ADT_start    ADT_end  ADT_duration                    Source\n",
       "4          38 2015-11-18 2016-07-18           243  shared_btw_manual_n_app2\n",
       "7         119 2013-07-02 2013-10-02            92  shared_btw_manual_n_app2\n",
       "10        780 2010-08-01 2010-09-30            60  shared_btw_manual_n_app2"
      ]
     },
     "execution_count": 124,
     "metadata": {},
     "output_type": "execute_result"
    }
   ],
   "source": [
    "part1=df2[(df2[\"person_id\"].isin(shared_btw_manual_n_app2))] \n",
    "part1['Source']='shared_btw_manual_n_app2'\n",
    "print(len(part1))\n",
    "part1[:3]"
   ]
  },
  {
   "cell_type": "code",
   "execution_count": 125,
   "metadata": {},
   "outputs": [
    {
     "name": "stdout",
     "output_type": "stream",
     "text": [
      "18\n"
     ]
    },
    {
     "name": "stderr",
     "output_type": "stream",
     "text": [
      "/Users/yuqincai/opt/anaconda3/lib/python3.7/site-packages/ipykernel_launcher.py:2: SettingWithCopyWarning: \n",
      "A value is trying to be set on a copy of a slice from a DataFrame.\n",
      "Try using .loc[row_indexer,col_indexer] = value instead\n",
      "\n",
      "See the caveats in the documentation: http://pandas.pydata.org/pandas-docs/stable/user_guide/indexing.html#returning-a-view-versus-a-copy\n",
      "  \n"
     ]
    },
    {
     "data": {
      "text/html": [
       "<div>\n",
       "<style scoped>\n",
       "    .dataframe tbody tr th:only-of-type {\n",
       "        vertical-align: middle;\n",
       "    }\n",
       "\n",
       "    .dataframe tbody tr th {\n",
       "        vertical-align: top;\n",
       "    }\n",
       "\n",
       "    .dataframe thead th {\n",
       "        text-align: right;\n",
       "    }\n",
       "</style>\n",
       "<table border=\"1\" class=\"dataframe\">\n",
       "  <thead>\n",
       "    <tr style=\"text-align: right;\">\n",
       "      <th></th>\n",
       "      <th>person_id</th>\n",
       "      <th>ADT_start</th>\n",
       "      <th>ADT_end</th>\n",
       "      <th>ADT_duration</th>\n",
       "      <th>Source</th>\n",
       "    </tr>\n",
       "  </thead>\n",
       "  <tbody>\n",
       "    <tr>\n",
       "      <td>5</td>\n",
       "      <td>81</td>\n",
       "      <td>2014-04-15</td>\n",
       "      <td>2016-06-09</td>\n",
       "      <td>786</td>\n",
       "      <td>uniquely_from_manual</td>\n",
       "    </tr>\n",
       "    <tr>\n",
       "      <td>19</td>\n",
       "      <td>2660</td>\n",
       "      <td>2018-07-03</td>\n",
       "      <td>2018-10-09</td>\n",
       "      <td>98</td>\n",
       "      <td>uniquely_from_manual</td>\n",
       "    </tr>\n",
       "    <tr>\n",
       "      <td>30</td>\n",
       "      <td>7236</td>\n",
       "      <td>2016-08-19</td>\n",
       "      <td>2017-01-04</td>\n",
       "      <td>138</td>\n",
       "      <td>uniquely_from_manual</td>\n",
       "    </tr>\n",
       "  </tbody>\n",
       "</table>\n",
       "</div>"
      ],
      "text/plain": [
       "    person_id  ADT_start    ADT_end  ADT_duration                Source\n",
       "5          81 2014-04-15 2016-06-09           786  uniquely_from_manual\n",
       "19       2660 2018-07-03 2018-10-09            98  uniquely_from_manual\n",
       "30       7236 2016-08-19 2017-01-04           138  uniquely_from_manual"
      ]
     },
     "execution_count": 125,
     "metadata": {},
     "output_type": "execute_result"
    }
   ],
   "source": [
    "part2=df2[(df2[\"person_id\"].isin(unique_from_manual))] \n",
    "part2['Source']='uniquely_from_manual'\n",
    "print(len(part2))\n",
    "part2[:3]"
   ]
  },
  {
   "cell_type": "code",
   "execution_count": 126,
   "metadata": {},
   "outputs": [
    {
     "name": "stdout",
     "output_type": "stream",
     "text": [
      "186\n"
     ]
    },
    {
     "name": "stderr",
     "output_type": "stream",
     "text": [
      "/Users/yuqincai/opt/anaconda3/lib/python3.7/site-packages/ipykernel_launcher.py:2: SettingWithCopyWarning: \n",
      "A value is trying to be set on a copy of a slice from a DataFrame.\n",
      "Try using .loc[row_indexer,col_indexer] = value instead\n",
      "\n",
      "See the caveats in the documentation: http://pandas.pydata.org/pandas-docs/stable/user_guide/indexing.html#returning-a-view-versus-a-copy\n",
      "  \n"
     ]
    },
    {
     "data": {
      "text/html": [
       "<div>\n",
       "<style scoped>\n",
       "    .dataframe tbody tr th:only-of-type {\n",
       "        vertical-align: middle;\n",
       "    }\n",
       "\n",
       "    .dataframe tbody tr th {\n",
       "        vertical-align: top;\n",
       "    }\n",
       "\n",
       "    .dataframe thead th {\n",
       "        text-align: right;\n",
       "    }\n",
       "</style>\n",
       "<table border=\"1\" class=\"dataframe\">\n",
       "  <thead>\n",
       "    <tr style=\"text-align: right;\">\n",
       "      <th></th>\n",
       "      <th>person_id</th>\n",
       "      <th>ADT_start</th>\n",
       "      <th>ADT_end</th>\n",
       "      <th>ADT_duration</th>\n",
       "      <th>Source</th>\n",
       "    </tr>\n",
       "  </thead>\n",
       "  <tbody>\n",
       "    <tr>\n",
       "      <td>0</td>\n",
       "      <td>2</td>\n",
       "      <td>2009-02-26</td>\n",
       "      <td>2009-09-15</td>\n",
       "      <td>201.0</td>\n",
       "      <td>uniquely_from_app2</td>\n",
       "    </tr>\n",
       "    <tr>\n",
       "      <td>1</td>\n",
       "      <td>13</td>\n",
       "      <td>2010-06-17</td>\n",
       "      <td>2015-03-17</td>\n",
       "      <td>1734.0</td>\n",
       "      <td>uniquely_from_app2</td>\n",
       "    </tr>\n",
       "    <tr>\n",
       "      <td>2</td>\n",
       "      <td>25</td>\n",
       "      <td>2013-11-01</td>\n",
       "      <td>2014-02-18</td>\n",
       "      <td>109.0</td>\n",
       "      <td>uniquely_from_app2</td>\n",
       "    </tr>\n",
       "  </tbody>\n",
       "</table>\n",
       "</div>"
      ],
      "text/plain": [
       "   person_id   ADT_start     ADT_end  ADT_duration              Source\n",
       "0          2  2009-02-26  2009-09-15         201.0  uniquely_from_app2\n",
       "1         13  2010-06-17  2015-03-17        1734.0  uniquely_from_app2\n",
       "2         25  2013-11-01  2014-02-18         109.0  uniquely_from_app2"
      ]
     },
     "execution_count": 126,
     "metadata": {},
     "output_type": "execute_result"
    }
   ],
   "source": [
    "part3=df3[(df3[\"person_id\"].isin(unique_from_app2))] \n",
    "part3['Source']='uniquely_from_app2'\n",
    "print(len(part3))\n",
    "part3[:3]"
   ]
  },
  {
   "cell_type": "code",
   "execution_count": 127,
   "metadata": {},
   "outputs": [
    {
     "data": {
      "text/html": [
       "<div>\n",
       "<style scoped>\n",
       "    .dataframe tbody tr th:only-of-type {\n",
       "        vertical-align: middle;\n",
       "    }\n",
       "\n",
       "    .dataframe tbody tr th {\n",
       "        vertical-align: top;\n",
       "    }\n",
       "\n",
       "    .dataframe thead th {\n",
       "        text-align: right;\n",
       "    }\n",
       "</style>\n",
       "<table border=\"1\" class=\"dataframe\">\n",
       "  <thead>\n",
       "    <tr style=\"text-align: right;\">\n",
       "      <th></th>\n",
       "      <th>person_id</th>\n",
       "      <th>ADT_start</th>\n",
       "      <th>ADT_end</th>\n",
       "      <th>ADT_duration</th>\n",
       "      <th>Source</th>\n",
       "    </tr>\n",
       "  </thead>\n",
       "  <tbody>\n",
       "    <tr>\n",
       "      <td>0</td>\n",
       "      <td>38</td>\n",
       "      <td>2015-11-18 00:00:00</td>\n",
       "      <td>2016-07-18 00:00:00</td>\n",
       "      <td>243.0</td>\n",
       "      <td>shared_btw_manual_n_app2</td>\n",
       "    </tr>\n",
       "    <tr>\n",
       "      <td>1</td>\n",
       "      <td>119</td>\n",
       "      <td>2013-07-02 00:00:00</td>\n",
       "      <td>2013-10-02 00:00:00</td>\n",
       "      <td>92.0</td>\n",
       "      <td>shared_btw_manual_n_app2</td>\n",
       "    </tr>\n",
       "    <tr>\n",
       "      <td>2</td>\n",
       "      <td>780</td>\n",
       "      <td>2010-08-01 00:00:00</td>\n",
       "      <td>2010-09-30 00:00:00</td>\n",
       "      <td>60.0</td>\n",
       "      <td>shared_btw_manual_n_app2</td>\n",
       "    </tr>\n",
       "    <tr>\n",
       "      <td>3</td>\n",
       "      <td>870</td>\n",
       "      <td>2017-06-14 00:00:00</td>\n",
       "      <td>2017-10-13 00:00:00</td>\n",
       "      <td>121.0</td>\n",
       "      <td>shared_btw_manual_n_app2</td>\n",
       "    </tr>\n",
       "    <tr>\n",
       "      <td>4</td>\n",
       "      <td>1257</td>\n",
       "      <td>2014-10-02 00:00:00</td>\n",
       "      <td>2015-07-08 00:00:00</td>\n",
       "      <td>279.0</td>\n",
       "      <td>shared_btw_manual_n_app2</td>\n",
       "    </tr>\n",
       "    <tr>\n",
       "      <td>...</td>\n",
       "      <td>...</td>\n",
       "      <td>...</td>\n",
       "      <td>...</td>\n",
       "      <td>...</td>\n",
       "      <td>...</td>\n",
       "    </tr>\n",
       "    <tr>\n",
       "      <td>265</td>\n",
       "      <td>185086</td>\n",
       "      <td>2019-09-10</td>\n",
       "      <td>2020-02-07</td>\n",
       "      <td>150.0</td>\n",
       "      <td>uniquely_from_app2</td>\n",
       "    </tr>\n",
       "    <tr>\n",
       "      <td>266</td>\n",
       "      <td>187363</td>\n",
       "      <td>2019-02-01</td>\n",
       "      <td>2019-06-19</td>\n",
       "      <td>138.0</td>\n",
       "      <td>uniquely_from_app2</td>\n",
       "    </tr>\n",
       "    <tr>\n",
       "      <td>267</td>\n",
       "      <td>187900</td>\n",
       "      <td>2019-12-30</td>\n",
       "      <td>2020-02-03</td>\n",
       "      <td>35.0</td>\n",
       "      <td>uniquely_from_app2</td>\n",
       "    </tr>\n",
       "    <tr>\n",
       "      <td>268</td>\n",
       "      <td>189405</td>\n",
       "      <td>2019-05-01</td>\n",
       "      <td>2019-07-29</td>\n",
       "      <td>89.0</td>\n",
       "      <td>uniquely_from_app2</td>\n",
       "    </tr>\n",
       "    <tr>\n",
       "      <td>269</td>\n",
       "      <td>201343</td>\n",
       "      <td>2020-08-07</td>\n",
       "      <td>2020-09-01</td>\n",
       "      <td>25.0</td>\n",
       "      <td>uniquely_from_app2</td>\n",
       "    </tr>\n",
       "  </tbody>\n",
       "</table>\n",
       "<p>270 rows × 5 columns</p>\n",
       "</div>"
      ],
      "text/plain": [
       "     person_id            ADT_start              ADT_end  ADT_duration  \\\n",
       "0           38  2015-11-18 00:00:00  2016-07-18 00:00:00         243.0   \n",
       "1          119  2013-07-02 00:00:00  2013-10-02 00:00:00          92.0   \n",
       "2          780  2010-08-01 00:00:00  2010-09-30 00:00:00          60.0   \n",
       "3          870  2017-06-14 00:00:00  2017-10-13 00:00:00         121.0   \n",
       "4         1257  2014-10-02 00:00:00  2015-07-08 00:00:00         279.0   \n",
       "..         ...                  ...                  ...           ...   \n",
       "265     185086           2019-09-10           2020-02-07         150.0   \n",
       "266     187363           2019-02-01           2019-06-19         138.0   \n",
       "267     187900           2019-12-30           2020-02-03          35.0   \n",
       "268     189405           2019-05-01           2019-07-29          89.0   \n",
       "269     201343           2020-08-07           2020-09-01          25.0   \n",
       "\n",
       "                       Source  \n",
       "0    shared_btw_manual_n_app2  \n",
       "1    shared_btw_manual_n_app2  \n",
       "2    shared_btw_manual_n_app2  \n",
       "3    shared_btw_manual_n_app2  \n",
       "4    shared_btw_manual_n_app2  \n",
       "..                        ...  \n",
       "265        uniquely_from_app2  \n",
       "266        uniquely_from_app2  \n",
       "267        uniquely_from_app2  \n",
       "268        uniquely_from_app2  \n",
       "269        uniquely_from_app2  \n",
       "\n",
       "[270 rows x 5 columns]"
      ]
     },
     "execution_count": 127,
     "metadata": {},
     "output_type": "execute_result"
    }
   ],
   "source": [
    "Final_270pts=pd.concat([part1,part2,part3], ignore_index=True)\n",
    "Final_270pts"
   ]
  },
  {
   "cell_type": "code",
   "execution_count": 128,
   "metadata": {},
   "outputs": [],
   "source": [
    "Final_270pts.to_csv(\"./data/combined_270pts_from_manual_reviewed_n_approach2_with_ADT.csv\", encoding='utf-8', index=False)"
   ]
  }
 ],
 "metadata": {
  "kernelspec": {
   "display_name": "Python 3",
   "language": "python",
   "name": "python3"
  },
  "language_info": {
   "codemirror_mode": {
    "name": "ipython",
    "version": 3
   },
   "file_extension": ".py",
   "mimetype": "text/x-python",
   "name": "python",
   "nbconvert_exporter": "python",
   "pygments_lexer": "ipython3",
   "version": "3.7.4"
  }
 },
 "nbformat": 4,
 "nbformat_minor": 2
}
