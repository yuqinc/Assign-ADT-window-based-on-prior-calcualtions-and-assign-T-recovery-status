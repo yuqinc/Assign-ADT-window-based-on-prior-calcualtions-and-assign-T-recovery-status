{
 "cells": [
  {
   "cell_type": "markdown",
   "metadata": {},
   "source": [
    "# README.md\n",
    "\n",
    "# Assign ADT window for the 107 pts from previously calculated results approach #2 and manual reviewed cohort with a preference for the latter when there is an overlap"
   ]
  },
  {
   "cell_type": "markdown",
   "metadata": {},
   "source": [
    "## Table of Contents\n",
    "* [Read data, clean up and get stats](#first-bullet)\n",
    "* [Assign ADT use](#second-bullet)\n",
    "* [Assign T recovery status](#third-bullet)"
   ]
  },
  {
   "cell_type": "code",
   "execution_count": 51,
   "metadata": {},
   "outputs": [],
   "source": [
    "import numpy as np\n",
    "import pandas as pd\n",
    "import sys, getopt\n",
    "import csv\n",
    "from datetime import datetime\n",
    "import itertools\n",
    "\n",
    "import matplotlib.pyplot as plt\n",
    "from matplotlib import pyplot\n",
    "from pylab import *\n",
    "\n",
    "%matplotlib inline  \n",
    "import seaborn as sns"
   ]
  },
  {
   "cell_type": "markdown",
   "metadata": {},
   "source": [
    "# Read data, clean up and get stats <a class=\"anchor\" id=\"first-bullet\"></a>"
   ]
  },
  {
   "cell_type": "code",
   "execution_count": 52,
   "metadata": {
    "scrolled": false
   },
   "outputs": [
    {
     "data": {
      "text/html": [
       "<div>\n",
       "<style scoped>\n",
       "    .dataframe tbody tr th:only-of-type {\n",
       "        vertical-align: middle;\n",
       "    }\n",
       "\n",
       "    .dataframe tbody tr th {\n",
       "        vertical-align: top;\n",
       "    }\n",
       "\n",
       "    .dataframe thead th {\n",
       "        text-align: right;\n",
       "    }\n",
       "</style>\n",
       "<table border=\"1\" class=\"dataframe\">\n",
       "  <thead>\n",
       "    <tr style=\"text-align: right;\">\n",
       "      <th></th>\n",
       "      <th>person_id</th>\n",
       "      <th>inital_ADT_start_date</th>\n",
       "      <th>inital_ADT_end_date</th>\n",
       "      <th>Inital_ADT_time_window_days</th>\n",
       "      <th>Tdate_justbeforeADT</th>\n",
       "      <th>Tvalue_justbeforeADT</th>\n",
       "      <th>baseline avail Status</th>\n",
       "      <th>N_T_dates</th>\n",
       "      <th>N_T_dates_beforeADT</th>\n",
       "    </tr>\n",
       "  </thead>\n",
       "  <tbody>\n",
       "    <tr>\n",
       "      <td>0</td>\n",
       "      <td>2</td>\n",
       "      <td>2009-02-26</td>\n",
       "      <td>2009-09-15</td>\n",
       "      <td>201.0</td>\n",
       "      <td>2009-02-09</td>\n",
       "      <td>274.18</td>\n",
       "      <td>Y</td>\n",
       "      <td>82</td>\n",
       "      <td>20</td>\n",
       "    </tr>\n",
       "    <tr>\n",
       "      <td>1</td>\n",
       "      <td>13</td>\n",
       "      <td>2010-06-17</td>\n",
       "      <td>2015-03-17</td>\n",
       "      <td>1734.0</td>\n",
       "      <td>2009-09-18</td>\n",
       "      <td>23.72</td>\n",
       "      <td>Y</td>\n",
       "      <td>23</td>\n",
       "      <td>2</td>\n",
       "    </tr>\n",
       "    <tr>\n",
       "      <td>2</td>\n",
       "      <td>25</td>\n",
       "      <td>2013-11-01</td>\n",
       "      <td>2014-02-18</td>\n",
       "      <td>109.0</td>\n",
       "      <td>2013-10-15</td>\n",
       "      <td>31.54</td>\n",
       "      <td>Y</td>\n",
       "      <td>12</td>\n",
       "      <td>1</td>\n",
       "    </tr>\n",
       "  </tbody>\n",
       "</table>\n",
       "</div>"
      ],
      "text/plain": [
       "   person_id inital_ADT_start_date inital_ADT_end_date  \\\n",
       "0          2            2009-02-26          2009-09-15   \n",
       "1         13            2010-06-17          2015-03-17   \n",
       "2         25            2013-11-01          2014-02-18   \n",
       "\n",
       "   Inital_ADT_time_window_days Tdate_justbeforeADT  Tvalue_justbeforeADT  \\\n",
       "0                        201.0          2009-02-09                274.18   \n",
       "1                       1734.0          2009-09-18                 23.72   \n",
       "2                        109.0          2013-10-15                 31.54   \n",
       "\n",
       "  baseline avail Status  N_T_dates  N_T_dates_beforeADT  \n",
       "0                     Y         82                   20  \n",
       "1                     Y         23                    2  \n",
       "2                     Y         12                    1  "
      ]
     },
     "execution_count": 52,
     "metadata": {},
     "output_type": "execute_result"
    }
   ],
   "source": [
    "#new 107pt list\n",
    "df1=pd.read_excel(\"./data/107pt_list.xlsx\", header=0)\n",
    "\n",
    "#manual reviewed cohort \n",
    "df2=pd.read_excel(\"./data/pca_manual_reviewed_cohort_185pts_ADT_windows.xlsx\", header=0)\n",
    "\n",
    "#approach #2 results\n",
    "df3=pd.read_csv(\"./data/sean_big_cohort_approach2_561pts_with_adt_window_and_baseline_T_Feb24_2021.csv\", header=0)\n",
    "\n",
    "df1.fillna('', inplace=True)\n",
    "df1.replace(r'', np.NaN)\n",
    "\n",
    "df2.fillna('', inplace=True)\n",
    "df2.replace(r'', np.NaN)\n",
    "df2[:3]\n",
    "\n",
    "df3.fillna('', inplace=True)\n",
    "df3.replace(r'', np.NaN)\n",
    "df3[:3]"
   ]
  },
  {
   "cell_type": "code",
   "execution_count": 53,
   "metadata": {},
   "outputs": [
    {
     "data": {
      "text/html": [
       "<div>\n",
       "<style scoped>\n",
       "    .dataframe tbody tr th:only-of-type {\n",
       "        vertical-align: middle;\n",
       "    }\n",
       "\n",
       "    .dataframe tbody tr th {\n",
       "        vertical-align: top;\n",
       "    }\n",
       "\n",
       "    .dataframe thead th {\n",
       "        text-align: right;\n",
       "    }\n",
       "</style>\n",
       "<table border=\"1\" class=\"dataframe\">\n",
       "  <thead>\n",
       "    <tr style=\"text-align: right;\">\n",
       "      <th></th>\n",
       "      <th>person_id</th>\n",
       "      <th>ADT initail use START</th>\n",
       "      <th>ADT initial use END</th>\n",
       "      <th>ADT duration</th>\n",
       "      <th>Last note date</th>\n",
       "    </tr>\n",
       "  </thead>\n",
       "  <tbody>\n",
       "    <tr>\n",
       "      <td>0</td>\n",
       "      <td>12</td>\n",
       "      <td>2013-05-06</td>\n",
       "      <td>2013-05-06</td>\n",
       "      <td>0</td>\n",
       "      <td>2020-12-18</td>\n",
       "    </tr>\n",
       "    <tr>\n",
       "      <td>1</td>\n",
       "      <td>18</td>\n",
       "      <td>2013-11-12</td>\n",
       "      <td>2014-03-13</td>\n",
       "      <td>121</td>\n",
       "      <td>2020-10-29</td>\n",
       "    </tr>\n",
       "    <tr>\n",
       "      <td>2</td>\n",
       "      <td>25</td>\n",
       "      <td>2013-08-01</td>\n",
       "      <td>2014-02-18</td>\n",
       "      <td>201</td>\n",
       "      <td>2020-01-22</td>\n",
       "    </tr>\n",
       "  </tbody>\n",
       "</table>\n",
       "</div>"
      ],
      "text/plain": [
       "   person_id ADT initail use START ADT initial use END  ADT duration  \\\n",
       "0         12            2013-05-06          2013-05-06             0   \n",
       "1         18            2013-11-12          2014-03-13           121   \n",
       "2         25            2013-08-01          2014-02-18           201   \n",
       "\n",
       "  Last note date  \n",
       "0     2020-12-18  \n",
       "1     2020-10-29  \n",
       "2     2020-01-22  "
      ]
     },
     "execution_count": 53,
     "metadata": {},
     "output_type": "execute_result"
    }
   ],
   "source": [
    "df2[:3]"
   ]
  },
  {
   "cell_type": "code",
   "execution_count": 54,
   "metadata": {},
   "outputs": [
    {
     "name": "stdout",
     "output_type": "stream",
     "text": [
      "54\n",
      "53\n"
     ]
    }
   ],
   "source": [
    "#first assgin window according to the manual reviewed cohort\n",
    "#then for the empty lines, assgin them according to the approach #2 \n",
    "result_pt_list=df1[\"person_id\"].to_list()\n",
    "manual_pt_list=df2[\"person_id\"].to_list()\n",
    "approach2_list=df3[\"person_id\"].to_list()\n",
    "\n",
    "#overlapping btw 107 pts list and  manual reviewed list\n",
    "overlap1=[x  for x in result_pt_list if x in manual_pt_list]\n",
    "print(len(overlap1))\n",
    "remaining=[x for x in result_pt_list if x not in overlap1]\n",
    "print(len(remaining))"
   ]
  },
  {
   "cell_type": "code",
   "execution_count": 55,
   "metadata": {
    "scrolled": true
   },
   "outputs": [],
   "source": [
    "index_list=df2.columns\n",
    "index_list\n",
    "\n",
    "df2.columns=['person_id','ADT_start','ADT_end','ADT_duration', 'Last_note_date']"
   ]
  },
  {
   "cell_type": "markdown",
   "metadata": {},
   "source": [
    "# Assign ADT use <a class=\"anchor\" id=\"second-bullet\"></a>"
   ]
  },
  {
   "cell_type": "code",
   "execution_count": 56,
   "metadata": {},
   "outputs": [],
   "source": [
    "result_list=[]\n",
    "\n",
    "for y in result_pt_list:\n",
    "    if y in  overlap1:\n",
    "        df2_pt=df2[(df2[\"person_id\"] == y)]\n",
    "        #pt_drug_list=df1_pt.cancer_drug.to_list()[0]                  \n",
    "        person_id=y\n",
    "        start=df2_pt.ADT_start.to_list()[0] \n",
    "        end=df2_pt.ADT_end.to_list()[0] \n",
    "        duration=df2_pt.ADT_duration.to_list()[0]         \n",
    "    if y not in  overlap1:\n",
    "        df3_pt=df3[(df3[\"person_id\"] == y)]\n",
    "        #pt_drug_list=df1_pt.cancer_drug.to_list()[0]                  \n",
    "        person_id=y\n",
    "        start=df3_pt.inital_ADT_start_date.to_list()[0] \n",
    "        end=df3_pt.inital_ADT_end_date.to_list()[0] \n",
    "        duration=df3_pt.Inital_ADT_time_window_days.to_list()[0] \n",
    "    \n",
    "    result_per_pt=[person_id,start, end, duration]         \n",
    "    #print(result_per_pt)    \n",
    "    result_list.append(result_per_pt)"
   ]
  },
  {
   "cell_type": "code",
   "execution_count": 57,
   "metadata": {},
   "outputs": [],
   "source": [
    "df_results=pd.DataFrame(result_list)\n",
    "df_results.columns=(['person_id','ADT_start','ADT_end','ADT_duration'])"
   ]
  },
  {
   "cell_type": "code",
   "execution_count": 58,
   "metadata": {},
   "outputs": [
    {
     "data": {
      "text/html": [
       "<div>\n",
       "<style scoped>\n",
       "    .dataframe tbody tr th:only-of-type {\n",
       "        vertical-align: middle;\n",
       "    }\n",
       "\n",
       "    .dataframe tbody tr th {\n",
       "        vertical-align: top;\n",
       "    }\n",
       "\n",
       "    .dataframe thead th {\n",
       "        text-align: right;\n",
       "    }\n",
       "</style>\n",
       "<table border=\"1\" class=\"dataframe\">\n",
       "  <thead>\n",
       "    <tr style=\"text-align: right;\">\n",
       "      <th></th>\n",
       "      <th>person_id</th>\n",
       "      <th>ADT_start</th>\n",
       "      <th>ADT_end</th>\n",
       "      <th>ADT_duration</th>\n",
       "    </tr>\n",
       "  </thead>\n",
       "  <tbody>\n",
       "    <tr>\n",
       "      <td>0</td>\n",
       "      <td>81</td>\n",
       "      <td>2014-04-15</td>\n",
       "      <td>2016-06-09</td>\n",
       "      <td>786.0</td>\n",
       "    </tr>\n",
       "    <tr>\n",
       "      <td>1</td>\n",
       "      <td>1257</td>\n",
       "      <td>2014-10-02</td>\n",
       "      <td>2015-07-08</td>\n",
       "      <td>279.0</td>\n",
       "    </tr>\n",
       "    <tr>\n",
       "      <td>2</td>\n",
       "      <td>1508</td>\n",
       "      <td>2016-08-03</td>\n",
       "      <td>2017-04-16</td>\n",
       "      <td>256.0</td>\n",
       "    </tr>\n",
       "  </tbody>\n",
       "</table>\n",
       "</div>"
      ],
      "text/plain": [
       "   person_id  ADT_start    ADT_end  ADT_duration\n",
       "0         81 2014-04-15 2016-06-09         786.0\n",
       "1       1257 2014-10-02 2015-07-08         279.0\n",
       "2       1508 2016-08-03 2017-04-16         256.0"
      ]
     },
     "execution_count": 58,
     "metadata": {},
     "output_type": "execute_result"
    }
   ],
   "source": [
    "df_results[:3]"
   ]
  },
  {
   "cell_type": "code",
   "execution_count": 59,
   "metadata": {},
   "outputs": [
    {
     "name": "stdout",
     "output_type": "stream",
     "text": [
      "107\n"
     ]
    }
   ],
   "source": [
    "print(shape(df_results)[0])"
   ]
  },
  {
   "cell_type": "code",
   "execution_count": 60,
   "metadata": {},
   "outputs": [],
   "source": [
    "df_results.to_csv(\"./data/107pts_ADT_windows.csv\", encoding='utf-8', index=False)"
   ]
  },
  {
   "cell_type": "code",
   "execution_count": 67,
   "metadata": {},
   "outputs": [],
   "source": [
    "# T recovery status 300 ng/dL"
   ]
  },
  {
   "cell_type": "markdown",
   "metadata": {},
   "source": [
    "# Assign T recovery status <a class=\"anchor\" id=\"third-bullet\"></a>"
   ]
  },
  {
   "cell_type": "code",
   "execution_count": 62,
   "metadata": {},
   "outputs": [],
   "source": [
    "#list of pts without adt\n",
    "drop_list=[21832,22100, 35343, 4595, 7611, 14278, 14287, 31839, 2063, 7870, 9975, 17580, 25886, 30554, 31492]"
   ]
  },
  {
   "cell_type": "code",
   "execution_count": 63,
   "metadata": {},
   "outputs": [
    {
     "name": "stderr",
     "output_type": "stream",
     "text": [
      "/Users/yuqincai/opt/anaconda3/lib/python3.7/site-packages/ipykernel_launcher.py:42: UserWarning: Boolean Series key will be reindexed to match DataFrame index.\n",
      "/Users/yuqincai/opt/anaconda3/lib/python3.7/site-packages/ipykernel_launcher.py:43: UserWarning: Boolean Series key will be reindexed to match DataFrame index.\n"
     ]
    }
   ],
   "source": [
    "#df_results\n",
    "df_test=pd.read_excel(\"./data/pca_tresults_20210119_BP_fixed.xlsx\", header=0)\n",
    "#df3=pd.read_csv(\"just_start_empty.csv\", header=0)\n",
    "df_test.replace(r'', np.NaN)\n",
    "\n",
    "df1=df_results\n",
    "df2=df_test\n",
    "result_status=[]\n",
    "\n",
    "final_list = [y for y in result_pt_list if y not in drop_list]\n",
    "\n",
    "for y in final_list:    \n",
    "    df1_pt=df1[(df1[\"person_id\"] == y)]\n",
    "\n",
    "    #if(df1_pt.inital_ADT_end_date.values.any()!=\"\"):\n",
    "    if(pd.notnull(df1_pt['ADT_end'].iloc[0])):\n",
    "        a=df1_pt['ADT_start'].to_list()[0]\n",
    "        b=df1_pt['ADT_end'].to_list()[0]\n",
    "        gap=df1_pt['ADT_duration'].to_list()[0]       \n",
    "        df2_pt=df2[(df2[\"person_id\"] == y)]    \n",
    "        each_pt_tdates = df2_pt['result_date'].to_list()\n",
    "\n",
    "        ##get rid of nan\n",
    "        cleaned_a=[]\n",
    "        cleaned_a= [x for x in each_pt_tdates if str(x) != 'NaN']\n",
    "        cleaned_aa= [x for x in cleaned_a if str(x) != 'nan']\n",
    "        cleaned_aaa= [x for x in cleaned_aa if str(x) != 'NaT']\n",
    "        N_t_dates=len(cleaned_aaa)\n",
    "\n",
    "        #only keep the ones after ADT end date including on the day\n",
    "        cleaned_aaaa= [x for x in cleaned_aaa if x >=b]\n",
    "        start_sorted_bin=sorted(cleaned_aaaa)\n",
    "        N_t_dates_afterADT=len(cleaned_aaaa)\n",
    "   \n",
    "        if(len(start_sorted_bin)==0):\n",
    "            tdate='NaN' \n",
    "            tvalue=\"NaN\"\n",
    "            status=\"NaN\"\n",
    "\n",
    "#get the 300\n",
    "        if(len(start_sorted_bin)>0):\n",
    "            df3_pt=df2_pt[df2_pt.test_results >=300][df2_pt.result_date >=b]\n",
    "            df4_pt=df2_pt[df2_pt.test_results <300][df2_pt.result_date >=b]\n",
    "\n",
    "            if not df3_pt.empty:\n",
    "                status =\"Y\"\n",
    "                tdate=df3_pt['result_date'].to_list()[0]\n",
    "                tvalue=df3_pt['test_results'].to_list()[0]\n",
    "            \n",
    "            #if not df4_pt.empty:\n",
    "            if df3_pt.empty:\n",
    "                status =\"N\"\n",
    "                tdate=df4_pt['result_date'].to_list()[-1]\n",
    "                tvalue=df4_pt['test_results'].to_list()[-1]\n",
    "    \n",
    "    #print(y, a, b, gap, tdate, tvalue,status, N_t_dates,N_t_dates_afterADT)\n",
    "    result_status_per_pt=[y,a, b,gap, tdate, tvalue, status,N_t_dates,N_t_dates_afterADT]\n",
    "    result_status.append(result_status_per_pt)"
   ]
  },
  {
   "cell_type": "code",
   "execution_count": 64,
   "metadata": {},
   "outputs": [],
   "source": [
    "df_recovery_result300=pd.DataFrame(result_status)\n",
    "df_recovery_result300.columns=(['person_id', 'inital_ADT_start_date', 'inital_ADT_end_date','Inital_ADT_time_window_days', 'Tdate_rec_norec300', 'Tvalue_rec_norec300', 'Status300',\"N_T_dates\",\"N_T_dates_afterADT\"])\n",
    "\n",
    "df_rec300=df_recovery_result300[df_recovery_result300[\"Status300\"]==\"Y\"]\n",
    "df_nonrec300=df_recovery_result300[df_recovery_result300[\"Status300\"]==\"N\"]"
   ]
  },
  {
   "cell_type": "code",
   "execution_count": 65,
   "metadata": {},
   "outputs": [],
   "source": [
    "df_rec300.to_csv(\"./data/107pts_ADT_windows_recovery.csv\", encoding='utf-8', index=False)\n",
    "df_nonrec300.to_csv(\"./data/107pts_ADT_windows_nonrecov.csv\", encoding='utf-8', index=False)"
   ]
  }
 ],
 "metadata": {
  "kernelspec": {
   "display_name": "Python 3",
   "language": "python",
   "name": "python3"
  },
  "language_info": {
   "codemirror_mode": {
    "name": "ipython",
    "version": 3
   },
   "file_extension": ".py",
   "mimetype": "text/x-python",
   "name": "python",
   "nbconvert_exporter": "python",
   "pygments_lexer": "ipython3",
   "version": "3.7.4"
  }
 },
 "nbformat": 4,
 "nbformat_minor": 2
}
